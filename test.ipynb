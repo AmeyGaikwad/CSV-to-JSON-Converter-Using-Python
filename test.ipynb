{
 "cells": [
  {
   "cell_type": "code",
   "execution_count": 1,
   "metadata": {},
   "outputs": [],
   "source": [
    "import os\n",
    "import json\n",
    "import glob\n",
    "import re\n",
    "import pandas as pd"
   ]
  },
  {
   "cell_type": "markdown",
   "metadata": {},
   "source": []
  },
  {
   "cell_type": "code",
   "execution_count": 2,
   "metadata": {},
   "outputs": [],
   "source": [
    "def get_column_names(schemas, ds_name, sorting_key = 'column_position'):\n",
    "    column_details = schemas[ds_name]\n",
    "    columns = sorted(column_details, key= lambda col: col[sorting_key])\n",
    "    return [col['column_name'] for col in columns]"
   ]
  },
  {
   "cell_type": "code",
   "execution_count": 3,
   "metadata": {},
   "outputs": [],
   "source": [
    "schemas = json.load(open('data/retail_db/schemas.json'))"
   ]
  },
  {
   "cell_type": "code",
   "execution_count": 4,
   "metadata": {},
   "outputs": [],
   "source": [
    "src_file_names = glob.glob('data/retail_db/*/part-*', recursive=True)"
   ]
  },
  {
   "cell_type": "code",
   "execution_count": 8,
   "metadata": {},
   "outputs": [
    {
     "name": "stderr",
     "output_type": "stream",
     "text": [
      "<>:4: SyntaxWarning: invalid escape sequence '\\]'\n",
      "<>:4: SyntaxWarning: invalid escape sequence '\\]'\n",
      "C:\\Users\\ameyg\\AppData\\Local\\Temp\\ipykernel_29484\\1716149592.py:4: SyntaxWarning: invalid escape sequence '\\]'\n",
      "  file_path_list = re.split('[/\\\\\\]', file)\n"
     ]
    },
    {
     "name": "stdout",
     "output_type": "stream",
     "text": [
      "Processing data/retail_db\\categories\\part-00000\n",
      "File Created at data/retail_db_json/categories/part-00000 \n",
      "\n",
      "Processing data/retail_db\\customers\\part-00000\n",
      "File Created at data/retail_db_json/customers/part-00000 \n",
      "\n",
      "Processing data/retail_db\\departments\\part-00000\n",
      "File Created at data/retail_db_json/departments/part-00000 \n",
      "\n",
      "Processing data/retail_db\\orders\\part-00000\n",
      "File Created at data/retail_db_json/orders/part-00000 \n",
      "\n",
      "Processing data/retail_db\\order_items\\part-00000\n",
      "File Created at data/retail_db_json/order_items/part-00000 \n",
      "\n",
      "Processing data/retail_db\\products\\part-00000\n",
      "File Created at data/retail_db_json/products/part-00000 \n",
      "\n"
     ]
    }
   ],
   "source": [
    "tgt_base_dir = 'data/retail_db_json'\n",
    "for file in src_file_names:\n",
    "    print(f'Processing {file}')\n",
    "    file_path_list = re.split('[/\\\\\\]', file)\n",
    "    ds_name = file_path_list[-2]\n",
    "    file_name = file_path_list[-1]\n",
    "    ds_columns = get_column_names(schemas, ds_name)\n",
    "    df = pd.read_csv(file, names=ds_columns)\n",
    "    json_file_path = f'{tgt_base_dir}/{ds_name}/{file_name}'\n",
    "    os.makedirs(f'{tgt_base_dir}/{ds_name}')\n",
    "    df.to_json(json_file_path,\n",
    "               orient='records',\n",
    "               lines=True)\n",
    "    print(f'File Created at {json_file_path} \\n')"
   ]
  },
  {
   "cell_type": "code",
   "execution_count": null,
   "metadata": {},
   "outputs": [],
   "source": []
  }
 ],
 "metadata": {
  "kernelspec": {
   "display_name": "pr-venv",
   "language": "python",
   "name": "python3"
  },
  "language_info": {
   "codemirror_mode": {
    "name": "ipython",
    "version": 3
   },
   "file_extension": ".py",
   "mimetype": "text/x-python",
   "name": "python",
   "nbconvert_exporter": "python",
   "pygments_lexer": "ipython3",
   "version": "3.12.3"
  }
 },
 "nbformat": 4,
 "nbformat_minor": 2
}
